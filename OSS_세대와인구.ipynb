{
  "nbformat": 4,
  "nbformat_minor": 0,
  "metadata": {
    "colab": {
      "provenance": [],
      "authorship_tag": "ABX9TyNsFkS39q5A/X3c45rUNVi6",
      "include_colab_link": true
    },
    "kernelspec": {
      "name": "python3",
      "display_name": "Python 3"
    },
    "language_info": {
      "name": "python"
    }
  },
  "cells": [
    {
      "cell_type": "markdown",
      "metadata": {
        "id": "view-in-github",
        "colab_type": "text"
      },
      "source": [
        "<a href=\"https://colab.research.google.com/github/07dla/oss2025/blob/main/OSS_%EC%84%B8%EB%8C%80%EC%99%80%EC%9D%B8%EA%B5%AC.ipynb\" target=\"_parent\"><img src=\"https://colab.research.google.com/assets/colab-badge.svg\" alt=\"Open In Colab\"/></a>"
      ]
    },
    {
      "cell_type": "code",
      "source": [
        "# prompt: /content/구·군_및_읍·면·동_세대와_인구_20250317162417.csv 로부터 외국인 인구가 많은 순으로 정리해 줘\n",
        "\n",
        "import pandas as pd\n",
        "\n",
        "# CSV 파일 읽기\n",
        "df = pd.read_csv('/content/구·군_및_읍·면·동_세대와_인구_20250317162417.csv', encoding='cp949') # 파일 인코딩 지정\n",
        "\n",
        "# 필요한 열 선택 및 데이터 정제\n",
        "df = df[['구분', '외국인 인구']]\n",
        "df = df[df['외국인 인구'] != '-'] # '-' 값 제거 (필요에 따라 다른 처리 방법 적용)\n",
        "df['외국인 인구'] = df['외국인 인구'].astype(int)  # 데이터 타입을 정수형으로 변환\n",
        "\n",
        "\n",
        "# 외국인 인구 기준으로 내림차순 정렬\n",
        "df_sorted = df.sort_values(by='외국인 인구', ascending=False)\n",
        "\n",
        "# 결과 출력\n",
        "df_sorted\n"
      ],
      "metadata": {
        "id": "kTXCM62v_0bN"
      },
      "execution_count": null,
      "outputs": []
    }
  ]
}